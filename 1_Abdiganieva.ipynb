{
 "cells": [
  {
   "cell_type": "markdown",
   "metadata": {
    "datalore": {
     "hide_input_from_viewers": false,
     "hide_output_from_viewers": false,
     "node_id": "K6wb7LZeNZcvqssZO1Tzet",
     "type": "MD"
    }
   },
   "source": [
    "# Вопросы"
   ]
  },
  {
   "cell_type": "markdown",
   "metadata": {
    "datalore": {
     "hide_input_from_viewers": false,
     "hide_output_from_viewers": false,
     "node_id": "XYlhrc5DuJFRk2BfDrswty",
     "type": "MD"
    }
   },
   "source": [
    "### 1) Дайте определение вероятности. Лучше больше, чем одно."
   ]
  },
  {
   "cell_type": "markdown",
   "metadata": {
    "datalore": {
     "hide_input_from_viewers": false,
     "hide_output_from_viewers": false,
     "node_id": "kX90Eus8uAHtpwVZuPP3ua",
     "type": "MD"
    }
   },
   "source": [
    "1) По Колмогорову:\n",
    "   Пусть есть выборочное пространство $S$, $A$ -- подмножество $S$. Каждому такому $A$ ставится в соответствие числе $P(A)$, которое называется вероятностью. Это число определяется тремя аксиомами:\n",
    "$$\n",
    "\t\\forall A \\subset S: P(A) \\ge 0 \\\\\n",
    "\t\\forall A, B \\text{ таких, что } A \\cap B = \\emptyset: P(A \\cup B) = P(A) + P(B) \\\\\n",
    "\tP(S) = 1\n",
    "$$\n",
    "\n",
    "2) Частотное определение:\n",
    "   \n",
    "   Пусть $S$ -- множество всех возможных исходов эксперимента, $A$ -- подмножество $S$.\n",
    "   Пусть есть возможность повторять эксперимент неограниченно. Количество исходов эксперимента, когда результат попал в $A$ обозначим $𝑁(𝐴)$, а полное количество экспериментов $𝑁(𝑆)$. Тогда вероятность $P(A)$:\n",
    "   $$\\lim_{N(S) \\rightarrow \\infty} \\dfrac{N(A)}{N(S)}$$\n",
    "\n",
    "\n",
    "3) Субъективная вероятность:\n",
    "   \n",
    "   Пусть $S$ -- пространство всевозможных гипотез. Элементарные гипотезы взаимно исключены.\n",
    "Подмножество, содержащее более одной гипотезы истинно, если хоть какая-либо из гипотез в подмножестве истинна.\n",
    "Одна из гипотез должна быть с необходимостью истинной.\n",
    "В таком случае субъективной вероятностью $𝑃(𝐴)$ назовем степень веры в то, что гипотеза $A$ верна.\n"
   ]
  },
  {
   "cell_type": "markdown",
   "metadata": {
    "datalore": {
     "hide_input_from_viewers": false,
     "hide_output_from_viewers": false,
     "node_id": "0KUN5UpldmYSTedDikV8PD",
     "type": "MD"
    }
   },
   "source": [
    "### 2) Прокурор указал, что O. J. Simpson уже бил жену в прошлом. Адвокат ответил: \"Убивают только одну из 2500 женщин, подвергавшихся семейному насилию, так что это вообще нерелевантно\". Суд согласился с адвокатом; верно ли это рассуждение?"
   ]
  },
  {
   "cell_type": "markdown",
   "metadata": {
    "datalore": {
     "hide_input_from_viewers": false,
     "hide_output_from_viewers": false,
     "node_id": "IeB6QKex6hQVqWYbu2mPDT",
     "type": "MD"
    }
   },
   "source": [
    "Жена Симпсона была уже мертва, следовательно, корректная постановка вопроса является следующей: из всех убитых жен, которые подвергались абъюзу, какой процент был убит мужем или бывшим мужем?\". Этот процент 80.3, что делает информацию от прокурора релевантной."
   ]
  },
  {
   "cell_type": "markdown",
   "metadata": {
    "datalore": {
     "hide_input_from_viewers": false,
     "hide_output_from_viewers": false,
     "node_id": "LD2IW4qEHXdAG66Do1K0KP",
     "type": "MD"
    }
   },
   "source": [
    "### 3) У Sally Clark погибли два младенца; прокурор указал, что вероятность двух случаев SIDS (синдром внезапной детской смерти) в одной семье, которую он получил из статистики одиночных случаев, - около 1 из 73 миллионов; есть ли здесь ошибка?"
   ]
  },
  {
   "cell_type": "markdown",
   "metadata": {
    "datalore": {
     "hide_input_from_viewers": false,
     "hide_output_from_viewers": false,
     "node_id": "ubEz1W0ktXUr3y0I2LstpG",
     "type": "MD"
    }
   },
   "source": [
    "Прокурор перемножил вероятности для одиночных случаев. Это могло бы быть правильным ответом, если вероятности были бы независимыми друг от друга. Однако есть поводы полагать, что это взаимосвязанные события. Так, в семьях с уже произошедшим случаем внезапной детской смерти вероятность повторного события повышена."
   ]
  },
  {
   "cell_type": "markdown",
   "metadata": {
    "datalore": {
     "hide_input_from_viewers": false,
     "hide_output_from_viewers": false,
     "node_id": "CSpHCl0UwGdUPoPMWUiDuT",
     "type": "MD"
    }
   },
   "source": [
    "### 6) На вечеринке вы встретили загадочного человека. У него длинные волосы, чёрная одежда и он слушает death-metal. Можете ли вы на основании этих фактов сделать вывод, что он скорее сатанист, чем христианин? Каких статистических данных вам не хватает?"
   ]
  },
  {
   "cell_type": "markdown",
   "metadata": {
    "datalore": {
     "hide_input_from_viewers": false,
     "hide_output_from_viewers": false,
     "node_id": "FSUXQEjnAwuvvbVbPuXEkB",
     "type": "MD"
    }
   },
   "source": [
    "Не хватает начальных условий.\n",
    "\n",
    "Как минимум, для оценки не хватает информации о контингенте вечеринки. Может быть, это вечеринка исповедующих христианство, тогда вывод о сатанисте будет неверен. Также атрибутами священнослужителей, исповедующих христианство, являются длинные волосы и черная одежда."
   ]
  },
  {
   "cell_type": "markdown",
   "metadata": {
    "datalore": {
     "hide_input_from_viewers": false,
     "hide_output_from_viewers": false,
     "node_id": "wtLRu3rKPAMuTQJo4P23XO",
     "type": "MD"
    }
   },
   "source": [
    "# Задачи учебные"
   ]
  },
  {
   "cell_type": "markdown",
   "metadata": {
    "datalore": {
     "hide_input_from_viewers": false,
     "hide_output_from_viewers": false,
     "node_id": "axLk34NEh08i6K8HFXfDnQ",
     "type": "MD"
    }
   },
   "source": [
    "### 1) Можно ли на амбарных весах (цена деления 1 кг.) взвесить железное тело с точностью до массы атома, предполагая полную воспроизводимость взвешивания, что, грубо говоря, эквивалентно вопросу, можно ли на этих весах определить массу атома железа? Если да, то сколько понадобится взвешиваний?"
   ]
  },
  {
   "cell_type": "markdown",
   "metadata": {
    "datalore": {
     "hide_input_from_viewers": false,
     "hide_output_from_viewers": false,
     "node_id": "eS7bcQ6ZGyMEHgVNdYKzSb",
     "type": "MD"
    }
   },
   "source": [
    "Нет, приборная погрешность весов является систематической погрешностью, количество экспериментов на нее не влияет."
   ]
  },
  {
   "cell_type": "markdown",
   "metadata": {
    "datalore": {
     "hide_input_from_viewers": false,
     "hide_output_from_viewers": false,
     "node_id": "SdS6QcRqdPKChKhrZ8ScFL",
     "type": "MD"
    }
   },
   "source": [
    "### 2) У вас есть честная монета (выпадение орла и решки равновероятно). Вы подбрасываете монету пока не выпадет Орел Орел Решка (ООР) или Орел Решка Решка (ОРР). Является ли один исход более вероятным, чем другой? Если да, то какой и какая у него вероятность?"
   ]
  },
  {
   "cell_type": "code",
   "execution_count": 56,
   "metadata": {
    "datalore": {
     "hide_input_from_viewers": false,
     "hide_output_from_viewers": false,
     "node_id": "oMFx8ql71UUrKcrhiFqUyB",
     "type": "CODE"
    }
   },
   "outputs": [],
   "source": [
    "import matplotlib.pyplot as plt\n",
    "plt.rcParams[\"figure.figsize\"] = (20,10)\n",
    "\n",
    "def orr(n, i = 3): return (n - i) // 2 + 1\n",
    "\n",
    "def oor(n):\n",
    "    orr_c = 0\n",
    "    for i in range(3, n):\n",
    "        orr_c += orr(n, i)\n",
    "    return 1 + orr_c\n",
    "\n",
    "def prob(n):\n",
    "    oor_p = 0\n",
    "    orr_p = 0\n",
    "    for i in range(3, n):\n",
    "        oor_p += oor(i) / 2 ** i\n",
    "        orr_p += orr(i) / 2 ** i\n",
    "    return oor_p, orr_p"
   ]
  },
  {
   "cell_type": "code",
   "execution_count": 64,
   "metadata": {
    "datalore": {
     "hide_input_from_viewers": false,
     "hide_output_from_viewers": false,
     "node_id": "09xdMNVBU83BBbpJawb73d",
     "type": "CODE"
    }
   },
   "outputs": [
    {
     "name": "stdout",
     "output_type": "stream",
     "text": [
      "0.6666666666666666\n",
      "0.3333333333333333\n"
     ]
    }
   ],
   "source": [
    "oor_prob = []\n",
    "orr_prob = []\n",
    "throws = [n for n in range(3, 100)]\n",
    "\n",
    "for throw in throws:\n",
    "    oor_p, orr_p = prob(throw)\n",
    "    oor_prob.append(oor_p)\n",
    "    orr_prob.append(orr_p)\n",
    "\n",
    "print(oor_prob[-1])\n",
    "print(orr_prob[-1])"
   ]
  },
  {
   "cell_type": "code",
   "execution_count": 72,
   "metadata": {
    "datalore": {
     "hide_input_from_viewers": false,
     "hide_output_from_viewers": false,
     "node_id": "9OgXypJfgHS8lui2lLfo6B",
     "type": "CODE"
    }
   },
   "outputs": [
    {
     "data": {
      "text/plain": [
       "([<matplotlib.axis.XTick at 0x7f8c47cc9f10>,\n",
       "  <matplotlib.axis.XTick at 0x7f8c47cc9ee0>,\n",
       "  <matplotlib.axis.XTick at 0x7f8c47cc9df0>,\n",
       "  <matplotlib.axis.XTick at 0x7f8c47c804c0>,\n",
       "  <matplotlib.axis.XTick at 0x7f8c47c8a940>,\n",
       "  <matplotlib.axis.XTick at 0x7f8c47c910d0>,\n",
       "  <matplotlib.axis.XTick at 0x7f8c47c91820>,\n",
       "  <matplotlib.axis.XTick at 0x7f8c47c96040>,\n",
       "  <matplotlib.axis.XTick at 0x7f8c47c96700>,\n",
       "  <matplotlib.axis.XTick at 0x7f8c47c96e50>,\n",
       "  <matplotlib.axis.XTick at 0x7f8c47c91bb0>,\n",
       "  <matplotlib.axis.XTick at 0x7f8c47c8a8b0>,\n",
       "  <matplotlib.axis.XTick at 0x7f8c47ca0550>,\n",
       "  <matplotlib.axis.XTick at 0x7f8c47ca0ca0>,\n",
       "  <matplotlib.axis.XTick at 0x7f8c47ca5430>,\n",
       "  <matplotlib.axis.XTick at 0x7f8c47ca5b80>,\n",
       "  <matplotlib.axis.XTick at 0x7f8c47ca5e50>,\n",
       "  <matplotlib.axis.XTick at 0x7f8c47ca0d60>,\n",
       "  <matplotlib.axis.XTick at 0x7f8c47c913a0>,\n",
       "  <matplotlib.axis.XTick at 0x7f8c47caa700>],\n",
       " [Text(0, 0, ''),\n",
       "  Text(0, 0, ''),\n",
       "  Text(0, 0, ''),\n",
       "  Text(0, 0, ''),\n",
       "  Text(0, 0, ''),\n",
       "  Text(0, 0, ''),\n",
       "  Text(0, 0, ''),\n",
       "  Text(0, 0, ''),\n",
       "  Text(0, 0, ''),\n",
       "  Text(0, 0, ''),\n",
       "  Text(0, 0, ''),\n",
       "  Text(0, 0, ''),\n",
       "  Text(0, 0, ''),\n",
       "  Text(0, 0, ''),\n",
       "  Text(0, 0, ''),\n",
       "  Text(0, 0, ''),\n",
       "  Text(0, 0, ''),\n",
       "  Text(0, 0, ''),\n",
       "  Text(0, 0, ''),\n",
       "  Text(0, 0, '')])"
      ]
     },
     "metadata": {},
     "output_type": "display_data"
    },
    {
     "data": {
      "image/png": "[encoded data removed]"
     },
     "metadata": {
      "image/png": {}
     },
     "output_type": "display_data"
    }
   ],
   "source": [
    "import numpy as np\n",
    "plt.plot(throws, oor_prob)\n",
    "plt.plot(throws, orr_prob)\n",
    "plt.xlabel('Number of throws', fontsize = 20 )\n",
    "plt.ylabel('Probability', fontsize = 20 )\n",
    "plt.legend(['OOP', 'OPP'], fontsize=20)\n",
    "\n",
    "plt.text(80, 0.62, 'OOP prob = 0.666', fontsize=20)\n",
    "\n",
    "plt.text(80, 0.3, 'OPP prob = 0.333', fontsize=20)\n",
    "plt.xticks(np.arange(min(throws), max(throws)+1, 5))"
   ]
  },
  {
   "cell_type": "markdown",
   "metadata": {
    "datalore": {
     "hide_input_from_viewers": false,
     "hide_output_from_viewers": false,
     "node_id": "SIVwHERe5wRxQumN6cMuyp",
     "type": "MD"
    }
   },
   "source": [
    "## Задачи о манкивирусах"
   ]
  },
  {
   "cell_type": "code",
   "execution_count": 3,
   "metadata": {
    "datalore": {
     "hide_input_from_viewers": false,
     "hide_output_from_viewers": false,
     "node_id": "drOhFtnzmLu8DQ8pZZIboe",
     "type": "CODE"
    }
   },
   "outputs": [],
   "source": [
    "class PDF(object):\n",
    "  def __init__(self, pdf, size=(200,200)):\n",
    "    self.pdf = pdf\n",
    "    self.size = size\n",
    "\n",
    "  def _repr_html_(self):\n",
    "    return '<iframe src={0} width={1[0]} height={1[1]}></iframe>'.format(self.pdf, self.size)\n",
    "\n",
    "  def _repr_latex_(self):\n",
    "    return r'\\includegraphics[width=1.0\\textwidth]{{{0}}}'.format(self.pdf)"
   ]
  },
  {
   "cell_type": "code",
   "execution_count": 5,
   "metadata": {
    "datalore": {
     "hide_input_from_viewers": false,
     "hide_output_from_viewers": false,
     "node_id": "hGNRRkfLuxqVJoVKBSKcEo",
     "type": "CODE"
    }
   },
   "outputs": [
    {
     "data": {
      "text/html": [
       "<iframe src=Physique_Statistique.pdf width=300 height=250></iframe>"
      ]
     },
     "metadata": {},
     "output_type": "display_data"
    }
   ],
   "source": [
    "PDF('Physique_Statistique.pdf',size=(300,250))"
   ]
  },
  {
   "cell_type": "code",
   "execution_count": 3,
   "metadata": {
    "datalore": {
     "hide_input_from_viewers": false,
     "hide_output_from_viewers": false,
     "node_id": "r2O3Qg3TVl8wTPBPk3GIqt",
     "type": "CODE"
    }
   },
   "outputs": [
    {
     "data": {
      "text/html": [
       "\n",
       "        <iframe\n",
       "            width=\"1000\"\n",
       "            height=\"600\"\n",
       "            src=\"Physique_Statistique.pdf\"\n",
       "            frameborder=\"0\"\n",
       "            allowfullscreen\n",
       "            \n",
       "        ></iframe>\n",
       "        "
      ],
      "text/plain": [
       "<IPython.lib.display.IFrame at 0x7f3cec72b5e0>"
      ]
     },
     "execution_count": 3,
     "metadata": {},
     "output_type": "execute_result"
    }
   ],
   "source": [
    "from IPython.display import IFrame\n",
    "IFrame(\"Physique_Statistique.pdf\", width=1000, height=600)"
   ]
  },
  {
   "cell_type": "code",
   "execution_count": null,
   "metadata": {},
   "outputs": [],
   "source": []
  }
 ],
 "metadata": {
  "datalore": {
   "base_environment": "default",
   "computation_mode": "JUPYTER",
   "package_manager": "pip",
   "packages": [],
   "version": 1
  },
  "kernelspec": {
   "display_name": "Python 3 (ipykernel)",
   "language": "python",
   "name": "python3"
  },
  "language_info": {
   "codemirror_mode": {
    "name": "ipython",
    "version": 3
   },
   "file_extension": ".py",
   "mimetype": "text/x-python",
   "name": "python",
   "nbconvert_exporter": "python",
   "pygments_lexer": "ipython3",
   "version": "3.10.6"
  }
 },
 "nbformat": 4,
 "nbformat_minor": 4
}
